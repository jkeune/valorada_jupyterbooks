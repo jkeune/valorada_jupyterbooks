{
 "cells": [
  {
   "cell_type": "markdown",
   "metadata": {
    "tags": [
     "logo"
    ]
   },
   "source": [
    "[![logo](https://climate.copernicus.eu/sites/default/files/custom-uploads/branding/LogoLine_horizon_C3S.png)](https://climate.copernicus.eu)"
   ]
  },
  {
   "cell_type": "markdown",
   "metadata": {},
   "source": [
    "# Explanation"
   ]
  },
  {
   "cell_type": "markdown",
   "metadata": {
    "tags": [
     "run"
    ]
   },
   "source": [
    "**This notebook can be run on free online platforms, such as Binder, Kaggle and Colab, or they can be accessed from GitHub. The links to run this notebook in these environments are provided here, but please note they are not supported by ECMWF.** \n",
    "\n",
    "[![binder](https://mybinder.org/badge.svg)](https://mybinder.org/v2/gh/ecmwf-training/jupyter-notebook-template/main?labpath=jupyter-notebook-template-copernicus.ipynb)\n",
    "[![kaggle](https://kaggle.com/static/images/open-in-kaggle.svg)](https://kaggle.com/kernels/welcome?src=https://github.com/ecmwf-training/jupyter-notebook-template/blob/main/jupyter-notebook-template-copernicus.ipynb)\n",
    "[![colab](https://colab.research.google.com/assets/colab-badge.svg)](https://colab.research.google.com/github/ecmwf-training/jupyter-notebook-template/blob/main/jupyter-notebook-template-copernicus.ipynb)\n",
    "[![github](https://img.shields.io/badge/Open%20in-GitHub-black?logo=github)](https://github.com/ecmwf-training/jupyter-notebook-template/blob/main/jupyter-notebook-template-copernicus.ipynb)\n"
   ]
  },
  {
   "cell_type": "markdown",
   "metadata": {
    "tags": [
     "install"
    ]
   },
   "source": [
    "## How to use this template *[second level header, H2]*"
   ]
  },
  {
   "cell_type": "markdown",
   "metadata": {},
   "source": [
    "*This is a template notebook which provides a style guide, best-practices and some hints for creating training material for ECMWF.*\n",
    "\n",
    "*Try to keep notebooks short. Focus on one topic / visualisation / processing routine. Consider separate notebooks if multiple parts or topics are included.*\n",
    "\n",
    "*Text in italic includes instructions for the learner/user, while normal text includes examples. [H1], [H2], etc. refer to header levels 1, 2, etc.*"
   ]
  },
  {
   "cell_type": "markdown",
   "metadata": {},
   "source": [
    "### Use of headers  *[third level header, H3]*"
   ]
  },
  {
   "cell_type": "markdown",
   "metadata": {},
   "source": [
    "*This section demonstrates how to use headers to separate sections. Headers should be in their own markdown cell such that they can be used to collapse sections.*\n",
    "\n",
    "*Headers should use sentence case, i.e. only capitalise first letter of first word, or first letter of proper nouns.*\n",
    "\n",
    "*[H1] headings are for notebook titles only, any sub-headings should begin at [H2]. Heading levels should not be skipped, e.g. you should not go from [H2] directly to [H4]*"
   ]
  },
  {
   "cell_type": "markdown",
   "metadata": {},
   "source": [
    "### Code and markdown cells"
   ]
  },
  {
   "cell_type": "code",
   "execution_count": null,
   "metadata": {},
   "outputs": [
    {
     "name": "stdout",
     "output_type": "stream",
     "text": [
      "This is a code cell!\n",
      "Comments should not be to long, anything detailed should be covered in markdown cells.\n"
     ]
    }
   ],
   "source": [
    "# This is a python comment\n",
    "print(\n",
    "    \"This is a code cell!\\n\"\n",
    "    \"Comments should not be to long, anything detailed should be covered in markdown cells.\"\n",
    ")"
   ]
  },
  {
   "cell_type": "markdown",
   "metadata": {},
   "source": [
    ":::{note}\n",
    "\n",
    "*You can add note windows using the [colon spacing directives](https://jupyterbook.org/en/stable/content/content-blocks.html#admonitions-colons). This will be rendered in the JupyterBook as Note window, and also means that the text is rendered as markdown in the local version.*\n",
    "\n",
    ":::"
   ]
  },
  {
   "cell_type": "markdown",
   "metadata": {},
   "source": [
    ":::{warning}\n",
    "\n",
    "This is an example warning block, with a real warning:\n",
    "\n",
    "*Please refrain from using HTML tags as they tend to interfere with the build of the JupyterBook build. JupyterBook uses [MyST Markdown](https://jupyterbook.org/en/stable/content/myst.html) to convert the markdown content into the rendered HTML.*\n",
    "\n",
    "*We do not ban the use of HTML tags, as in some instances they are safe and the only option to acheive the desired outcome. However, we have generally found MyST Markdown solutions avoiding the HTML tags, and if there is an alternative you will be asked to implement this.*\n",
    "\n",
    ":::"
   ]
  },
  {
   "cell_type": "markdown",
   "metadata": {},
   "source": [
    "*In addition to the code and markdown cells, please also inspect and populate the metadata, at both the notebook level, and for certain cells. More information about this is provided here: https://github.com/ecmwf-training/jn-metadata-schema*"
   ]
  },
  {
   "cell_type": "markdown",
   "metadata": {},
   "source": [
    "*The sections from \"How to use this template\" to here are for documenting this template, and should be removed prior to submitting your final notebook for review.*"
   ]
  },
  {
   "cell_type": "markdown",
   "metadata": {},
   "source": [
    "### Use of images"
   ]
  },
  {
   "cell_type": "markdown",
   "metadata": {},
   "source": [
    "*Any images unique to the Jupyter notebook should be stored in the ./img folder in this repository. Any images needed across multiple notebooks in multiple repositories (such as logolines) should be sourced from an external URL (see for example links to ECMWF and Copernicus logos here https://climate.copernicus.eu/branding-guidelines#Logolines). Images not already online can be uploaded to a dedicated repository for training hosted at https://sites.ecmwf.int/training/ (please contact chris.stewart@ecmwf.int).*"
   ]
  },
  {
   "cell_type": "markdown",
   "metadata": {},
   "source": [
    "### Use of data"
   ]
  },
  {
   "cell_type": "markdown",
   "metadata": {},
   "source": [
    "*Data files should not be stored in the Github repository, but hosted externally and linked to, or downloaded from original source (e.g. CDS/ADS).*"
   ]
  },
  {
   "cell_type": "markdown",
   "metadata": {},
   "source": [
    "### Notebook metadata"
   ]
  },
  {
   "cell_type": "markdown",
   "metadata": {},
   "source": [
    "*Apply metadata at the notebook level and at the cell level according to a metadata-schema described here: https://github.com/ecmwf-training/jn-metadata-schema.*"
   ]
  },
  {
   "cell_type": "markdown",
   "metadata": {},
   "source": [
    "## Learning objectives 🎯 "
   ]
  },
  {
   "cell_type": "markdown",
   "metadata": {},
   "source": [
    "*This is a mandatory section for C3S training material*\n",
    "\n",
    "*Describe briefly what the learner/user can expect to learn in this notebook. Address the learner directly, for example:*\n",
    "\n",
    "You will use and adapt this Jupyter notebook template to create your own Jupyter notebook tutorials. Having followed this notebook, you will gain an understanding of the overall layout, common elements, metadata schema and best practices to apply in creating Jupyter notebook based learning resources for ECMWF.\n",
    "\n",
    "*If the notebook is targeted to a niche audience and is not already stated in a Jupyterbook or webpage where the notebook can be accessed, please summarise them here, or in a separate section.*"
   ]
  },
  {
   "cell_type": "markdown",
   "metadata": {},
   "source": [
    "## Prepare your environment"
   ]
  },
  {
   "cell_type": "markdown",
   "metadata": {},
   "source": [
    "*Insert here any necessary instructions to set-up the environment of leaners, any background information on data, projects, access to data catalogues, or preliminary steps necessary to run the notebooks. These may include instructions for installing packages, imports, etc.*"
   ]
  },
  {
   "cell_type": "markdown",
   "metadata": {},
   "source": [
    "### Setup the CDSAPI and your credentials"
   ]
  },
  {
   "cell_type": "markdown",
   "metadata": {
    "tags": [
     "install",
     "api"
    ]
   },
   "source": [
    "*You may not need this subsection, it has been inserted here as an example of a tutorial/guide on how to access and explore data from the C3S Climate Data Store.*\n",
    "\n",
    "The code below will ensure that the `cdsapi` package is installed. If you have not setup your `~/.cdsapirc` file with your credenials, you can replace `None` with your credentials that can be found on the [how to api](https://cds.climate.copernicus.eu/how-to-api) page (you will need to log in to see your credentials)."
   ]
  },
  {
   "cell_type": "code",
   "execution_count": null,
   "metadata": {
    "tags": [
     "install",
     "api"
    ]
   },
   "outputs": [],
   "source": [
    "!pip install -q cdsapi\n",
    "# If you have already setup your .cdsapirc file you can leave this as None\n",
    "cdsapi_key = None\n",
    "cdsapi_url = None"
   ]
  },
  {
   "cell_type": "markdown",
   "metadata": {
    "tags": [
     "import"
    ]
   },
   "source": [
    "### (Install and) Import libraries"
   ]
  },
  {
   "cell_type": "markdown",
   "metadata": {},
   "source": [
    "*This section should import any libraries, if appropriate for the target audience, briefly describe libraries in Markdown cells, before listing the imports in code cells*\n",
    "\n",
    "*If necessary, include installation instructions for other packages. However, in training events it is convenient to use free Jupyter platforms that already have key libraries (such as numpy, matplotlib, etc.) installed. These platforms differ, for example Colab does not include Cartopy, which can be installed by adding the line of code `!pip install cartopy`. Binder creates a bespoke environment from your environment.yml file, but this can take some time to create.*\n",
    "\n",
    "*Wherever possible, use ECMWF packages, such as [Earthkit](https://earthkit-data.readthedocs.io/en/latest/).*"
   ]
  },
  {
   "cell_type": "markdown",
   "metadata": {
    "tags": [
     "import"
    ]
   },
   "source": [
    "We will be working with data in NetCDF format. To best handle this data, we will use the [Xarray](https://xarray.dev/) library for working with multidimensional arrays."
   ]
  },
  {
   "cell_type": "code",
   "execution_count": null,
   "metadata": {
    "tags": [
     "import"
    ]
   },
   "outputs": [],
   "source": [
    "# os is a module that provides a way to interact with the operating system\n",
    "import os\n",
    "\n",
    "# To access data programmatically from the CDS\n",
    "import cdsapi\n",
    "\n",
    "# For working with multidimensional arrays\n",
    "import xarray as xr"
   ]
  },
  {
   "cell_type": "markdown",
   "metadata": {},
   "source": [
    "### Specify data directory"
   ]
  },
  {
   "cell_type": "code",
   "execution_count": null,
   "metadata": {},
   "outputs": [],
   "source": [
    "# Directory to store data\n",
    "DATADIR = './data_dir/'\n",
    "# Create this directory if it doesn't exist\n",
    "os.makedirs(DATADIR, exist_ok=True)"
   ]
  },
  {
   "cell_type": "markdown",
   "metadata": {},
   "source": [
    "## Explore data"
   ]
  },
  {
   "cell_type": "markdown",
   "metadata": {},
   "source": [
    "*This is an example section, which may not be necassary in your specific notebook. That said, finding, downloading and inspecting data is a very useful introduction, so it is recommended you use this. If sensible for the flow of your notebook, this may occur in several places through, e.g. if you are accessing multiple datasets for different sections.*\n",
    "\n",
    "*This section describes how to find the data used in this notebook, including link to the CDS catalogue entry and description of the various fields in the CDS request.*\n",
    "\n",
    "We will now search, download and explore climate reanalysis data from the [Climate Data Store](https://cds.climate.copernicus.eu/). The dataset we will use is the [ERA5 monthly averaged data on single levels from 1940 to present](https://cds.climate.copernicus.eu/datasets/reanalysis-era5-single-levels-monthly-means?tab=overview). ERA5 is the 5th version of the ECMWF Reanalysis dataset. Reanalysis uses a state of the art forecast model and data assimilation system to create a consistent \"map without gaps\" of observed and modelled climate variables over the past decades."
   ]
  },
  {
   "cell_type": "markdown",
   "metadata": {},
   "source": [
    "### Search for the data"
   ]
  },
  {
   "cell_type": "markdown",
   "metadata": {},
   "source": [
    "Having selected the correct dataset, we now need to specify what product type, variables, temporal and geographic coverage we are interested in. These can all be selected in the **\"Download data\"** tab. In this tab a form appears in which we will select the following parameters to download:"
   ]
  },
  {
   "cell_type": "markdown",
   "metadata": {},
   "source": [
    ":::{dropdown}Parameters of data to download\n",
    "  - Product type: `Monthly averaged reanalysis`\n",
    "  - Variable: `2m temperature`\n",
    "  - Year: `2023`\n",
    "  - Month: `June, July and August`\n",
    "  - Time: `00:00` (default)\n",
    "  - Data Format: `NetCDF`\n",
    ":::"
   ]
  },
  {
   "cell_type": "markdown",
   "metadata": {},
   "source": [
    "At the end of the download form, select **\"Show API request\"**. This will reveal a block of code, which you can simply copy and paste into a cell of your Jupyter Notebook (see cell below). Having copied the API request into the cell below, running this will retrieve and download the data you requested into your local directory."
   ]
  },
  {
   "cell_type": "markdown",
   "metadata": {},
   "source": [
    ":::{warning}\n",
    "Please remember to accept the terms and conditions of the dataset, at the bottom of the CDS download form!\n",
    ":::"
   ]
  },
  {
   "cell_type": "markdown",
   "metadata": {},
   "source": [
    "### Download the data"
   ]
  },
  {
   "cell_type": "markdown",
   "metadata": {
    "tags": [
     "request"
    ]
   },
   "source": [
    "With the API request copied into the cell below, running this cell will retrieve and download the data you requested into your local directory."
   ]
  },
  {
   "cell_type": "code",
   "execution_count": 6,
   "metadata": {
    "tags": [
     "request"
    ]
   },
   "outputs": [
    {
     "name": "stderr",
     "output_type": "stream",
     "text": [
      "2024-08-29 15:18:41,821 INFO Request ID is 470645da-5244-4792-a566-abfb9b2a81f4\n",
      "2024-08-29 15:18:41,881 INFO status has been updated to accepted\n"
     ]
    }
   ],
   "source": [
    "dataset = \"reanalysis-era5-single-levels-monthly-means\"\n",
    "request = {\n",
    "    \"product_type\": [\"monthly_averaged_reanalysis\"],\n",
    "    \"variable\": [\"2m_temperature\"],\n",
    "    \"year\": [\"2023\"],\n",
    "    \"month\": [\"06\", \"07\", \"08\"],\n",
    "    \"time\": [\"00:00\"],\n",
    "    \"data_format\": \"netcdf\",\n",
    "    \"download_format\": \"unarchived\"\n",
    "}\n",
    "\n",
    "client = cdsapi.Client()\n",
    "client.retrieve(dataset, request).download(f'{DATADIR}/dataset-filename.nc')"
   ]
  },
  {
   "cell_type": "markdown",
   "metadata": {},
   "source": [
    "### Inspect data"
   ]
  },
  {
   "cell_type": "markdown",
   "metadata": {},
   "source": [
    "*This is an example section, please make it relevant to the content of your notebook. We strongly recommend xarray and/or earthkit for inspecting and processing the data.*\n",
    "\n",
    "Now that we have downloaded the data, we can inspect it. We have requested the data in NetCDF format. This is a commonly used format for array-oriented scientific data. To read and process this data we will make use of the [Xarray](http://xarray.pydata.org/en/stable/) library. Xarray is an open source project and Python package that makes working with labelled multi-dimensional arrays simple and efficient. We will read the data from our NetCDF file into an [xarray.Dataset](https://xarray.pydata.org/en/stable/generated/xarray.Dataset.html)."
   ]
  },
  {
   "cell_type": "code",
   "execution_count": null,
   "metadata": {},
   "outputs": [],
   "source": [
    "t2m = f'{DATADIR}/dataset-filename.nc'\n",
    "ds = xr.open_dataset(t2m)"
   ]
  },
  {
   "cell_type": "markdown",
   "metadata": {},
   "source": [
    "Let us now inspect our newly created Xarray dataset ..."
   ]
  },
  {
   "cell_type": "code",
   "execution_count": null,
   "metadata": {},
   "outputs": [],
   "source": [
    "ds"
   ]
  },
  {
   "cell_type": "markdown",
   "metadata": {},
   "source": [
    "We see that the dataset has one variable called **\"t2m\"**, which stands for \"2 metre temperature\", and three coordinates of **longitude**, **latitude** and **time**."
   ]
  },
  {
   "cell_type": "markdown",
   "metadata": {
    "tags": [
     "key-messages"
    ]
   },
   "source": [
    "## Take home messages 📌"
   ]
  },
  {
   "cell_type": "markdown",
   "metadata": {
    "tags": [
     "key-messages"
    ]
   },
   "source": [
    "*In this section, summarise key take home messages.*\n",
    "\n",
    "- The [Climate Data Store](https://cds.climate.copernicus.eu/) contains a wealth of freely available climate data.\n",
    "- This data can be searched and downloaded using a web interface, or programmatically using an API.\n",
    "- Remember to accept the terms and conditions of datasets prior to download!\n",
    "- Tutorials based on Jupyter notebooks contain example workflows which demonstrate how to explore C3S data using free Python packages such as [Xarray](https://xarray.dev/) and [Earthkit](https://earthkit-data.readthedocs.io/en/latest/)."
   ]
  },
  {
   "cell_type": "code",
   "execution_count": null,
   "metadata": {},
   "outputs": [],
   "source": []
  }
 ],
 "metadata": {
  "author": "",
  "content_type": "Software & code",
  "data_access": "",
  "deployment": {
   "deployment_name": {
    "deployment_service": {
     "link": "",
     "service_contact": "",
     "service_provider": ""
    },
    "git": {
     "link": "",
     "service_contact": "",
     "service_provider": ""
    }
   }
  },
  "description": "",
  "image": "",
  "kernelspec": {
   "display_name": "Python 3.12.9-01",
   "language": "python",
   "name": "python3"
  },
  "language_info": {
   "codemirror_mode": {
    "name": "ipython",
    "version": 3
   },
   "file_extension": ".py",
   "mimetype": "text/x-python",
   "name": "python",
   "nbconvert_exporter": "python",
   "pygments_lexer": "ipython3",
   "version": "3.12.9"
  },
  "license": "",
  "metadata_schema_version": "",
  "originator": "",
  "tags": {
   "category": "",
   "data_product": "",
   "data_provider": "",
   "data_type": "",
   "subtheme": "",
   "theme": "",
   "variable": ""
  },
  "title": "",
  "version": "",
  "version_date": ""
 },
 "nbformat": 4,
 "nbformat_minor": 4
}
